{
 "cells": [
  {
   "cell_type": "markdown",
   "metadata": {
    "_cell_guid": "0b757d4c-3fcf-4fe1-951a-2e739eb303d4",
    "_uuid": "3d6abd6e7b954b8dff63fb55e7e074c688c241ea"
   },
   "source": [
    "# Import Packages"
   ]
  },
  {
   "cell_type": "code",
   "execution_count": null,
   "metadata": {
    "_cell_guid": "26af60ec-1904-4b24-9f97-d26bed799e47",
    "_uuid": "0347168572ec8db00987543c3feeb6d803c337de",
    "collapsed": true
   },
   "outputs": [],
   "source": [
    "import numpy as np \n",
    "import pandas as pd \n",
    "from subprocess import check_output\n",
    "from sklearn import preprocessing\n",
    "from sklearn import ensemble\n",
    "print(check_output([\"ls\", \"../input\"]).decode(\"utf8\"))"
   ]
  },
  {
   "cell_type": "markdown",
   "metadata": {},
   "source": [
    "# Import Dataset"
   ]
  },
  {
   "cell_type": "code",
   "execution_count": null,
   "metadata": {},
   "outputs": [],
   "source": [
    "train = pd.read_csv(\"../input/train.tsv\", sep='\\t')\n",
    "test = pd.read_csv(\"../input/test.tsv\", sep='\\t')"
   ]
  },
  {
   "cell_type": "markdown",
   "metadata": {},
   "source": [
    "# Process Dataset"
   ]
  },
  {
   "cell_type": "code",
   "execution_count": null,
   "metadata": {
    "_cell_guid": "a25ed9b1-eb32-4170-b5d1-a2c8e6f1ad5d",
    "_uuid": "5e202ac8d7b130c8446e69e3f64ec60aff42a825",
    "collapsed": true
   },
   "outputs": [],
   "source": [
    "train['item_description'] = train['item_description'].astype(str)\n",
    "test['item_description'] = test['item_description'].astype(str)\n",
    "\n",
    "train['des_len'] = train['item_description'].apply(lambda x: len(x))\n",
    "test['des_len'] = test['item_description'].apply(lambda x: len(x))"
   ]
  },
  {
   "cell_type": "code",
   "execution_count": null,
   "metadata": {
    "_cell_guid": "b58c3221-1eeb-45ff-8fd5-c25e900e236a",
    "_uuid": "e7d507fc611269b3cbc4cfeca420edbfd441124c",
    "collapsed": true
   },
   "outputs": [],
   "source": [
    "# words in description\n",
    "train['word_count'] = train['item_description'].apply(lambda x: len(x.split()))\n",
    "test['word_count'] = test['item_description'].apply(lambda x: len(x.split()))"
   ]
  },
  {
   "cell_type": "code",
   "execution_count": null,
   "metadata": {
    "_cell_guid": "8b37a629-9a5a-47ac-91c4-0eb93571bedf",
    "_uuid": "72b0939b324697f168c32de65fc4a4faf0711e88",
    "collapsed": true
   },
   "outputs": [],
   "source": [
    "# men len of words in description inversed and scaled\n",
    "train['mean_des'] = train['item_description'].apply(lambda x: float(len(x.split())) / len(x))  * 10\n",
    "test['mean_des'] = test['item_description'].apply(lambda x: float(len(x.split())) / len(x)) * 10 "
   ]
  },
  {
   "cell_type": "code",
   "execution_count": null,
   "metadata": {
    "_cell_guid": "f6ed68b7-f1cd-48f9-8b5f-8504aabcf3fe",
    "_uuid": "0461a2c3629e369d9bc39793648dfb3f31f26a55",
    "collapsed": true
   },
   "outputs": [],
   "source": [
    "# length of name\n",
    "train['name_len'] = train['name'].apply(lambda x: len(x))\n",
    "test['name_len'] = test['name'].apply(lambda x: len(x))"
   ]
  },
  {
   "cell_type": "code",
   "execution_count": null,
   "metadata": {
    "_cell_guid": "0d42bb32-8657-478a-babf-6e95b59d4489",
    "_uuid": "4c16298bc03ffa723a632779a84fbafeaefe6039",
    "collapsed": true
   },
   "outputs": [],
   "source": [
    "# words in name\n",
    "train['word_name'] = train['name'].apply(lambda x: len(x.split()))\n",
    "test['word_name'] = test['name'].apply(lambda x: len(x.split()))"
   ]
  },
  {
   "cell_type": "code",
   "execution_count": null,
   "metadata": {
    "_cell_guid": "55829eaf-ae80-4a59-9532-3243f2ab0ee7",
    "_uuid": "098ef233be874e8f6b814ba692e1f18d6a44dec8",
    "collapsed": true
   },
   "outputs": [],
   "source": [
    "# men len of words in name inversed and scaled\n",
    "train['mean_name'] = train['name'].apply(lambda x: float(len(x.split())) / len(x))  * 10\n",
    "test['mean_name'] = test['name'].apply(lambda x: float(len(x.split())) / len(x)) * 10 "
   ]
  },
  {
   "cell_type": "code",
   "execution_count": null,
   "metadata": {
    "_cell_guid": "6f4f55c4-95f1-4223-9b9a-007ce3f28aa4",
    "_uuid": "57c303b36932105c47a823dcdecab8d0196a82ab",
    "collapsed": true
   },
   "outputs": [],
   "source": [
    "train.head()"
   ]
  },
  {
   "cell_type": "code",
   "execution_count": null,
   "metadata": {
    "_cell_guid": "b8d5e1a7-e112-42aa-8526-95b50cf9f7e9",
    "_uuid": "87c4b8d92552c225f6fbbd716f2782a0b41cfaa1",
    "collapsed": true
   },
   "outputs": [],
   "source": [
    "# missing value imputation\n",
    "train.isnull().sum()"
   ]
  },
  {
   "cell_type": "code",
   "execution_count": null,
   "metadata": {
    "_cell_guid": "f1e5a573-ebaa-4514-b9b2-31a2655ad2e5",
    "_uuid": "1fc89dc98cd3d7378e80f63382ceaa83b7ca7d8a",
    "collapsed": true
   },
   "outputs": [],
   "source": [
    "train['category_name'].value_counts()"
   ]
  },
  {
   "cell_type": "code",
   "execution_count": null,
   "metadata": {
    "_cell_guid": "a71e05a8-30ba-4be1-9f55-a80436ee4d07",
    "_uuid": "1cb75c446b23af90dc92d05114b2814a07692d67",
    "collapsed": true
   },
   "outputs": [],
   "source": [
    "train['category_name'].fillna('ppp/ppp/ppp', inplace=True)\n",
    "test['category_name'].fillna('ppp/ppp/ppp', inplace=True)"
   ]
  },
  {
   "cell_type": "code",
   "execution_count": null,
   "metadata": {
    "_cell_guid": "fe1fa074-9149-45e1-b1a9-997e77412ba6",
    "_uuid": "226fe5c9d39d058ed8c1ff72c65292b08c3dfbeb",
    "collapsed": true
   },
   "outputs": [],
   "source": [
    "train['elec'] = train['category_name'].apply(lambda x : int('electronics' in x.lower()))\n",
    "test['elec'] = test['category_name'].apply(lambda x : int('electronics' in x.lower()))"
   ]
  },
  {
   "cell_type": "code",
   "execution_count": null,
   "metadata": {
    "_cell_guid": "3e80cd1b-eb5c-4527-8a77-b631186fa91a",
    "_uuid": "b1b2429238d1af2b3a82781aa04103fe202de2d1",
    "collapsed": true
   },
   "outputs": [],
   "source": [
    "train['category_name'].value_counts()"
   ]
  },
  {
   "cell_type": "code",
   "execution_count": null,
   "metadata": {
    "_cell_guid": "b5eb129b-3454-4aee-aea3-672da04c00ad",
    "_uuid": "8148d445c58778c0b9a17062ebd71fa4e7648260",
    "collapsed": true
   },
   "outputs": [],
   "source": [
    "train['brand_name'].fillna('ttttttt', inplace=True)\n",
    "test['brand_name'].fillna('ttttttt', inplace=True)"
   ]
  },
  {
   "cell_type": "code",
   "execution_count": null,
   "metadata": {
    "_cell_guid": "2b11546e-7045-4ec3-87a7-c0e61c628107",
    "_uuid": "a32cbcde742d5df8c59909d8d925dde04282e457",
    "collapsed": true
   },
   "outputs": [],
   "source": [
    "train.isnull().sum()\n",
    "test.isnull().sum()"
   ]
  },
  {
   "cell_type": "code",
   "execution_count": null,
   "metadata": {
    "_cell_guid": "8f124d9c-1b81-43cd-9e3d-6685b7b2bec0",
    "_uuid": "29168589376d189b069dd090f8f8d212d1393fd7",
    "collapsed": true
   },
   "outputs": [],
   "source": [
    "#length of category words\n",
    "train['cat_lennn'] = train['category_name'].apply(lambda x: len(x))\n",
    "test['cat_lennn'] = test['category_name'].apply(lambda x: len(x))"
   ]
  },
  {
   "cell_type": "code",
   "execution_count": null,
   "metadata": {
    "_cell_guid": "cae8e88a-79d8-441a-a389-026625e14e35",
    "_uuid": "53e7cef5fce8942bd42e3e7fb92a0a044c21de76",
    "collapsed": true
   },
   "outputs": [],
   "source": [
    "def was_priced(x):\n",
    "    return int('[rm]' in x)\n",
    "               \n",
    "train['rm'] = train['item_description'].apply( lambda x : was_priced(x))\n",
    "test['rm'] = test['item_description'].apply( lambda x : was_priced(x))        "
   ]
  },
  {
   "cell_type": "code",
   "execution_count": null,
   "metadata": {
    "_cell_guid": "0c15f895-9e64-4588-9451-ecd62fc1cd22",
    "_uuid": "c6f98e71643290e0b285cc340af0537b905bed97",
    "collapsed": true
   },
   "outputs": [],
   "source": [
    "train['was_described'] = 1\n",
    "test['was_described'] = 1\n",
    "\n",
    "train.loc[ train['item_description'] == 'No description yet','was_described'] = 0\n",
    "test.loc[ test['item_description'] == 'No description yet','was_described'] = 0"
   ]
  },
  {
   "cell_type": "code",
   "execution_count": null,
   "metadata": {
    "_cell_guid": "f63a4ef0-2627-474e-8137-2efc052b4bc7",
    "_uuid": "ea60f51449ae069e6b4a815e24b82d07bbd12f69",
    "collapsed": true
   },
   "outputs": [],
   "source": [
    "# description containes 'new' word\n",
    "train['new'] = train['item_description'].apply(lambda x : int('new' in x.lower()))\n",
    "test['new'] = test['item_description'].apply(lambda x : int('new' in x.lower()))"
   ]
  },
  {
   "cell_type": "code",
   "execution_count": null,
   "metadata": {
    "_cell_guid": "8f5ec151-450a-4a93-9ecf-d84e6e91d086",
    "_uuid": "4b093b8babfbed94f71213317161392f36472b7a",
    "collapsed": true
   },
   "outputs": [],
   "source": [
    "# splitting subcategories of category_name\n",
    "train_cat = pd.DataFrame(train.category_name.str.split('/',2).tolist(),\n",
    "                                   columns = ['sub1','sub2', 'sub3'])\n",
    "train['sub1'] = train_cat['sub1']\n",
    "train['sub2'] = train_cat['sub2']\n",
    "train['sub3'] = train_cat['sub3']\n",
    "\n",
    "test_cat = pd.DataFrame(test.category_name.str.split('/',2).tolist(),\n",
    "                                   columns = ['sub1','sub2', 'sub3'])\n",
    "\n",
    "test['sub1'] = test_cat['sub1']\n",
    "test['sub2'] = test_cat['sub2']\n",
    "test['sub3'] = test_cat['sub3']\n",
    "\n",
    "train.head()"
   ]
  },
  {
   "cell_type": "code",
   "execution_count": null,
   "metadata": {
    "_cell_guid": "494d250e-d3ee-4035-b327-ce59006eea0d",
    "_uuid": "84a61dc88ce79c8ae9024c0ca310db4ce367bf16",
    "collapsed": true
   },
   "outputs": [],
   "source": [
    "train['hand'] = train['category_name'].apply(lambda x : int('handmade' in x.lower()))\n",
    "test['hand'] = test['category_name'].apply(lambda x : int('handmade' in x.lower()))"
   ]
  },
  {
   "cell_type": "code",
   "execution_count": null,
   "metadata": {
    "_cell_guid": "0d0b95f9-a361-4310-a8b9-595c0c0c2bcf",
    "_uuid": "578de2dbf82b5c5a768bc074b785fce21aa8c45e",
    "collapsed": true
   },
   "outputs": [],
   "source": [
    "train['men'] = train['category_name'].apply(lambda x : int('men' in x.lower()))\n",
    "test['men'] = test['category_name'].apply(lambda x : int('men' in x.lower()))"
   ]
  },
  {
   "cell_type": "code",
   "execution_count": null,
   "metadata": {
    "_cell_guid": "ce36631f-f4ec-4012-aa2b-7113ec17dbd5",
    "_uuid": "6b78b504e808d2fe8aa81d27e4a99fec35516941",
    "collapsed": true
   },
   "outputs": [],
   "source": [
    "# int in description\n",
    "import re\n",
    "train['int_desc'] = train['item_description'].apply(lambda x : int(bool(re.search(r'\\d',x))))\n",
    "test['int_desc'] = test['item_description'].apply(lambda x : int(bool(re.search(r'\\d',x))))"
   ]
  },
  {
   "cell_type": "code",
   "execution_count": null,
   "metadata": {
    "_cell_guid": "73caea52-bdc0-4953-b247-869f5988a30a",
    "_uuid": "bc3ba0dc454b06afb8572c321d6d0e51c04e6f19",
    "collapsed": true
   },
   "outputs": [],
   "source": [
    "# integer was present in name\n",
    "train['int_name'] = train['name'].apply(lambda x : int(bool(re.search(r'\\d',x))))\n",
    "test['int_name'] = test['name'].apply(lambda x : int(bool(re.search(r'\\d',x))))"
   ]
  },
  {
   "cell_type": "code",
   "execution_count": null,
   "metadata": {
    "_cell_guid": "c6cf16ea-70f8-4846-b971-0f18c6a76a90",
    "_uuid": "17b07bd3f4abf0f2911ef67849464a8e66e13099",
    "collapsed": true
   },
   "outputs": [],
   "source": [
    "# word condition was present in description\n",
    "train['cond'] = train['item_description'].apply(lambda x : int('condition' in x.lower()))\n",
    "test['cond'] = test['item_description'].apply(lambda x : int('condition' in x.lower()))"
   ]
  },
  {
   "cell_type": "code",
   "execution_count": null,
   "metadata": {
    "_cell_guid": "d130bfef-7e90-4041-9d74-5f253dcf71a3",
    "_uuid": "05c211cbfbff97182e867a5c2d3c7df7f6be4bd2",
    "collapsed": true
   },
   "outputs": [],
   "source": [
    "train['category_name'].value_counts()"
   ]
  },
  {
   "cell_type": "code",
   "execution_count": null,
   "metadata": {
    "_cell_guid": "b59b7c73-48d9-426f-8172-87021f8f882f",
    "_uuid": "2e0c5aabbc2a76f5781661792b0e319449747265",
    "collapsed": true
   },
   "outputs": [],
   "source": [
    "# converting price to log scale\n",
    "positive = train['price'].values > 0\n",
    "negative = train['price'].values < 0\n",
    "train['price'] = np.piecewise(train['price'], (positive, negative), (np.log, lambda x: -np.log(-x)))\n",
    "\n",
    "features = ['int_name',  'cond','int_desc', 'new', 'was_described', 'men', 'rm', 'item_condition_id','cat_lennn',  'brand_name', 'shipping', 'des_len', 'name_len','mean_des', 'word_count', 'mean_name', 'word_name', 'sub1', 'sub2', 'hand', 'elec', 'category_name']\n",
    "\n",
    "data = train[features]\n",
    "data_sub = test[features]\n",
    "\n",
    "y = train['price']"
   ]
  },
  {
   "cell_type": "code",
   "execution_count": null,
   "metadata": {
    "_cell_guid": "6472dc5d-3d07-4e27-bb26-f614111dbb71",
    "_uuid": "cd62e07eeb98084bd8c40aa9159003292b2bf5f9",
    "collapsed": true
   },
   "outputs": [],
   "source": [
    "data_sub.head()"
   ]
  },
  {
   "cell_type": "markdown",
   "metadata": {},
   "source": [
    "# Training"
   ]
  },
  {
   "cell_type": "code",
   "execution_count": null,
   "metadata": {
    "_cell_guid": "d17b881a-727b-4992-8f99-686aa1438f2b",
    "_uuid": "569d1b1340c35fcacf2f6fa5a4ea5d1c10ca60df",
    "collapsed": true
   },
   "outputs": [],
   "source": [
    "le = preprocessing.LabelEncoder()\n",
    "\n",
    "frames = [ data, data_sub ]\n",
    "xx = pd.concat(frames)\n",
    "\n",
    "l = [ 'brand_name', 'sub1', 'sub2', 'category_name']\n",
    "for x in l :\n",
    "    le.fit(xx[x])\n",
    "    data[x] = le.transform(data[x])\n",
    "    data_sub[x] = le.transform(data_sub[x])\n"
   ]
  },
  {
   "cell_type": "code",
   "execution_count": null,
   "metadata": {
    "_cell_guid": "d03dbc2f-6a72-42a7-b982-5516830ae98d",
    "_uuid": "698c95e036d5ca61da43f908deb49f6b5b62c1a1",
    "collapsed": true
   },
   "outputs": [],
   "source": [
    "data.head()"
   ]
  },
  {
   "cell_type": "code",
   "execution_count": null,
   "metadata": {
    "_cell_guid": "1267de52-63f7-49a6-82b5-4be96aeb032b",
    "_uuid": "ecb3178755983648cd2f5130ecaf006098d5567e",
    "collapsed": true
   },
   "outputs": [],
   "source": [
    "clf =  ensemble.GradientBoostingRegressor( learning_rate = 0.7, n_estimators=700, max_depth = 3,warm_start = True, verbose=1, random_state=45, max_features = 0.8)\n",
    "clf.fit(data, y)"
   ]
  },
  {
   "cell_type": "markdown",
   "metadata": {},
   "source": [
    "# Predict and Submit Results"
   ]
  },
  {
   "cell_type": "code",
   "execution_count": null,
   "metadata": {
    "_cell_guid": "f9eaf848-55b1-4266-82bd-26edffcb0b12",
    "_uuid": "9a0777d5e9b6edaf4e1b52913578c6171c002e66",
    "collapsed": true
   },
   "outputs": [],
   "source": [
    "predicted = clf.predict(data_sub) \n",
    "print(features)\n",
    "print( clf.feature_importances_)"
   ]
  },
  {
   "cell_type": "code",
   "execution_count": null,
   "metadata": {
    "_cell_guid": "11831fc5-042e-4f35-88e0-df785a5c5021",
    "_uuid": "27aff5bcec08d348a76ad05e05afd3b4f0933f47",
    "collapsed": true
   },
   "outputs": [],
   "source": [
    "out = pd.DataFrame()"
   ]
  },
  {
   "cell_type": "code",
   "execution_count": null,
   "metadata": {
    "_cell_guid": "af0cd58f-107d-4721-bc15-85df74e8c604",
    "_uuid": "7724ad25f13c815522670cdff914f840884cd30b",
    "collapsed": true
   },
   "outputs": [],
   "source": [
    "out['test_id'] = test['test_id']\n",
    "out['price'] = predicted\n",
    "out['price'] = np.exp(out['price'])"
   ]
  },
  {
   "cell_type": "code",
   "execution_count": null,
   "metadata": {
    "_cell_guid": "c5b42ebe-b0e3-48bf-bb99-5cc43c1b6772",
    "_uuid": "39eeedcb2471e1f97e4a457cb3ca863a4440e166",
    "collapsed": true
   },
   "outputs": [],
   "source": [
    "out.head()\n",
    "out.to_csv(\"mercari.csv\",index=False)"
   ]
  }
 ],
 "metadata": {
  "kernelspec": {
   "display_name": "Python 3",
   "language": "python",
   "name": "python3"
  },
  "language_info": {
   "codemirror_mode": {
    "name": "ipython",
    "version": 3
   },
   "file_extension": ".py",
   "mimetype": "text/x-python",
   "name": "python",
   "nbconvert_exporter": "python",
   "pygments_lexer": "ipython3",
   "version": "3.6.4"
  }
 },
 "nbformat": 4,
 "nbformat_minor": 2
}
