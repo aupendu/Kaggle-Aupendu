{
 "cells": [
  {
   "cell_type": "markdown",
   "metadata": {
    "_cell_guid": "cf335012-3a5f-4755-a88d-768f59d69482",
    "_uuid": "40dcdb5a08a9995c7becc5b29d67b19983f0dadc"
   },
   "source": [
    "# Import library"
   ]
  },
  {
   "cell_type": "code",
   "execution_count": null,
   "metadata": {
    "_cell_guid": "ca29b6a1-aea9-4616-81d6-88004e208848",
    "_uuid": "3f2a0e620cb0dd443a55e34c944b00d2af6d8fa1",
    "collapsed": true
   },
   "outputs": [],
   "source": [
    "% matplotlib inline\n",
    "import numpy as np\n",
    "import pandas as pd\n",
    "import seaborn as sns\n",
    "import matplotlib.pyplot as plt\n",
    "\n",
    "from sklearn.model_selection import StratifiedKFold\n",
    "import xgboost as xgb\n",
    "seed =45"
   ]
  },
  {
   "cell_type": "markdown",
   "metadata": {
    "_cell_guid": "67757dbd-2093-4f0c-abcf-1013aef89548",
    "_uuid": "387fa9a5ad9d779feef94ac9e0cb99b55875810e"
   },
   "source": [
    "# Import Dataset"
   ]
  },
  {
   "cell_type": "code",
   "execution_count": null,
   "metadata": {
    "_cell_guid": "b6fbc856-5409-4c23-80ed-c878880efa38",
    "_uuid": "0cd6ec9316d5941f793d1e8b39cf466c6775d770",
    "collapsed": true
   },
   "outputs": [],
   "source": [
    "path = '../input/'\n",
    "train = pd.read_csv(path+'train.csv',na_values=-1)\n",
    "test = pd.read_csv(path+'test.csv',na_values=-1)\n",
    "print('Number rows and columns:',train.shape)\n",
    "print('Number rows and columns:',test.shape)"
   ]
  },
  {
   "cell_type": "markdown",
   "metadata": {
    "_cell_guid": "aed0b5eb-f22f-439c-bda3-c174986f296f",
    "_uuid": "79a3dfbdf98e28abbd5711d94d5db8c98bb55edf"
   },
   "source": [
    "# Explore Dataset"
   ]
  },
  {
   "cell_type": "code",
   "execution_count": null,
   "metadata": {
    "_cell_guid": "5ca24733-48b4-42d9-9489-872ed2a5e5fc",
    "_uuid": "4bf0568e9158de82956093a9e5973673259687d3",
    "collapsed": true
   },
   "outputs": [],
   "source": [
    "train.head(3).T"
   ]
  },
  {
   "cell_type": "markdown",
   "metadata": {
    "_cell_guid": "0f226b93-47a4-4119-a173-23840e8f2bee",
    "_uuid": "62984ac6b38c7e12a98edd107c62336d1778c163"
   },
   "source": [
    "# Target Varaiable"
   ]
  },
  {
   "cell_type": "code",
   "execution_count": null,
   "metadata": {
    "_cell_guid": "1d16e15b-6243-4cab-bdfb-a85cebe90362",
    "_uuid": "e560b6af6892202d5f2471c4a4a3832c632a9549",
    "collapsed": true
   },
   "outputs": [],
   "source": [
    "plt.figure(figsize=(10,3))\n",
    "sns.countplot(train['target'],palette='rainbow')\n",
    "plt.xlabel('Target')\n",
    "\n",
    "train['target'].value_counts()"
   ]
  },
  {
   "cell_type": "markdown",
   "metadata": {
    "_cell_guid": "c668063c-712e-4085-a3de-c90ec6d53216",
    "_uuid": "92d2e62a26aaba114413cdd18ffc1524639ada4c"
   },
   "source": [
    "# Correlation Plot"
   ]
  },
  {
   "cell_type": "code",
   "execution_count": null,
   "metadata": {
    "_cell_guid": "6abdada7-f303-4912-9211-d48a3b903650",
    "_uuid": "e4bf05212594ae1c89cf614bb9eac5db38931acf",
    "collapsed": true
   },
   "outputs": [],
   "source": [
    "cor = train.corr()\n",
    "plt.figure(figsize=(16,10))\n",
    "sns.heatmap(cor)"
   ]
  },
  {
   "cell_type": "markdown",
   "metadata": {
    "_cell_guid": "138db5e0-a3ce-4c95-87aa-de4fc1fad50b",
    "_uuid": "2cd1698c40cdbdbde6309dbbd12192f80acabc06"
   },
   "source": [
    "#  \"ps_calc\" value has no relation with remaining variable"
   ]
  },
  {
   "cell_type": "code",
   "execution_count": null,
   "metadata": {
    "_cell_guid": "18c7df79-daa3-4e84-8c97-f56630863d4c",
    "_uuid": "69083867685a362919c8507a42ada205d91e5b0f",
    "collapsed": true
   },
   "outputs": [],
   "source": [
    "ps_cal = train.columns[train.columns.str.startswith('ps_calc')] \n",
    "train = train.drop(ps_cal,axis =1)\n",
    "test = test.drop(ps_cal,axis=1)\n",
    "train.shape"
   ]
  },
  {
   "cell_type": "code",
   "execution_count": null,
   "metadata": {
    "_cell_guid": "956fc39d-9558-4227-9bdc-c4e3f90e4dce",
    "_uuid": "600dcb0699af3991123bfc6c86385f5a1e5ce9f6",
    "collapsed": true
   },
   "outputs": [],
   "source": [
    "train['target'] = train['target'].astype('category')"
   ]
  },
  {
   "cell_type": "markdown",
   "metadata": {
    "_cell_guid": "029eec69-5208-423e-be68-cee5b539b4ac",
    "_uuid": "9db1310a5759f776fc11d0116b8cb693b5d37030"
   },
   "source": [
    "# Missing value in Dataset"
   ]
  },
  {
   "cell_type": "code",
   "execution_count": null,
   "metadata": {
    "_cell_guid": "be3f2773-04d3-4d7e-ac78-cb2dab151f0c",
    "_uuid": "cf7ddb73a3f7b82c630bdf238f1da2410f2bda22",
    "collapsed": true
   },
   "outputs": [],
   "source": [
    "k= pd.DataFrame()\n",
    "k['train']= train.isnull().sum()\n",
    "k['test'] = test.isnull().sum()\n",
    "k"
   ]
  },
  {
   "cell_type": "code",
   "execution_count": null,
   "metadata": {
    "_cell_guid": "4b7a1797-3b96-43eb-8301-345aab2062b3",
    "_uuid": "ed91ad4407001293e5423aa243f40c05d58ac480",
    "collapsed": true
   },
   "outputs": [],
   "source": [
    "def missing_value(df):\n",
    "    col = df.columns\n",
    "    for i in col:\n",
    "        if df[i].isnull().sum()>0:\n",
    "            df[i].fillna(df[i].mode()[0],inplace=True)"
   ]
  },
  {
   "cell_type": "code",
   "execution_count": null,
   "metadata": {
    "_cell_guid": "e572f149-2062-4ea7-927f-6a2f3248f461",
    "_uuid": "a7383848552e160b60907c2221cedf1f027a7f7a",
    "collapsed": true
   },
   "outputs": [],
   "source": [
    "missing_value(train)\n",
    "missing_value(test)"
   ]
  },
  {
   "cell_type": "markdown",
   "metadata": {
    "_cell_guid": "ae7c350c-d011-4f85-afee-d009a119896d",
    "_uuid": "eb11ba529e298cc6dc46454e4726d36d915fe00f"
   },
   "source": [
    "# Univariate Analysis"
   ]
  },
  {
   "cell_type": "code",
   "execution_count": null,
   "metadata": {
    "_cell_guid": "f4ffff13-0a6b-473d-b5eb-c7bac794cd66",
    "_uuid": "7db452f6fac7e114d9d338f86d548a5682952bd5",
    "collapsed": true
   },
   "outputs": [],
   "source": [
    "cat_col = [col for col in train.columns if '_cat' in col]\n",
    "print(cat_col)"
   ]
  },
  {
   "cell_type": "code",
   "execution_count": null,
   "metadata": {
    "_cell_guid": "a64ee640-0ee0-477d-8bff-541701f8ccab",
    "_uuid": "ee7a52139b0a5066f9ae20c58400d22c9ce9f1d6",
    "collapsed": true
   },
   "outputs": [],
   "source": [
    "for c in cat_col:\n",
    "    train[c] = train[c].astype('uint8')\n",
    "    test[c] = test[c].astype('uint8') "
   ]
  },
  {
   "cell_type": "code",
   "execution_count": null,
   "metadata": {
    "_cell_guid": "bb7be2f1-0242-4458-9d0f-8061b0f441a6",
    "_uuid": "95e4728e972846b1221f3b7f29f16996517d31c0",
    "collapsed": true
   },
   "outputs": [],
   "source": [
    "bin_col = [col for col in train.columns if 'bin' in col]\n",
    "print(bin_col)"
   ]
  },
  {
   "cell_type": "code",
   "execution_count": null,
   "metadata": {
    "_cell_guid": "48d3afb7-ee0a-4dbd-af53-226580d5439f",
    "_uuid": "fe87f2a5712d9b199a82b00ea3046c32a8ff5ebf",
    "collapsed": true
   },
   "outputs": [],
   "source": [
    "for c in bin_col:\n",
    "    train[c] = train[c].astype('uint8')\n",
    "    test[c] = test[c].astype('uint8') "
   ]
  },
  {
   "cell_type": "code",
   "execution_count": null,
   "metadata": {
    "_cell_guid": "8f55bb74-5c9b-439b-9933-619dc50b4fdc",
    "_uuid": "43b5f72989fb291fc5d184bb48b21736f5111821",
    "collapsed": true
   },
   "outputs": [],
   "source": [
    "def category_col(df):\n",
    "    c_col = df.columns\n",
    "    to_cat_col =[]\n",
    "    for i in c_col:\n",
    "        if df[i].nunique()<=104:\n",
    "            to_cat_col.append(i)\n",
    "    return to_cat_col\n",
    "\n",
    "\n",
    "tot_cat_col = category_col(train)\n",
    "other_cat_col = [c for c in tot_cat_col if c not in cat_col+ bin_col]\n",
    "other_cat_col"
   ]
  },
  {
   "cell_type": "code",
   "execution_count": null,
   "metadata": {
    "_cell_guid": "11299abe-1ee2-4a28-9550-2fc7181c1e67",
    "_uuid": "841cd9f170e185b6960be8efcd37fc9054e3afe7",
    "collapsed": true
   },
   "outputs": [],
   "source": [
    "ot_col = ['ps_ind_01','ps_ind_03','ps_ind_14','ps_ind_15','ps_car_11']\n",
    "for c in ot_col:\n",
    "    train[c] = train[c].astype('uint8')\n",
    "    test[c] = test[c].astype('uint8') "
   ]
  },
  {
   "cell_type": "code",
   "execution_count": null,
   "metadata": {
    "_cell_guid": "7e3b852e-e278-47be-9571-06ca1d90b6a5",
    "_uuid": "2b88a296a95b96e667efcf25bb5718ccfbc2f680",
    "collapsed": true
   },
   "outputs": [],
   "source": [
    "num_col = [c for c in train.columns if c not in tot_cat_col]\n",
    "num_col.remove('id')\n",
    "num_col"
   ]
  },
  {
   "cell_type": "markdown",
   "metadata": {
    "_cell_guid": "1602ceff-27eb-4543-bb54-096e83a8434e",
    "_uuid": "5094750ebbde1bdd142ef6e9106f11a89b5320ff"
   },
   "source": [
    "# Determine Outliers in Dataset"
   ]
  },
  {
   "cell_type": "code",
   "execution_count": null,
   "metadata": {
    "_cell_guid": "50debd31-1963-45e1-a93e-ad5e8737e5e8",
    "_uuid": "58388fe4241d372444f6d38c0a76c6634cbec1b1",
    "collapsed": true,
    "scrolled": false
   },
   "outputs": [],
   "source": [
    "def outlier(df,columns):\n",
    "    for i in columns:\n",
    "        quartile_1,quartile_3 = np.percentile(df[i],[25,75])\n",
    "        quartile_f,quartile_l = np.percentile(df[i],[1,99])\n",
    "        IQR = quartile_3-quartile_1\n",
    "        lower_bound = quartile_1 - (1.5*IQR)\n",
    "        upper_bound = quartile_3 + (1.5*IQR)\n",
    "        print(i,lower_bound,upper_bound,quartile_f,quartile_l)\n",
    "        \n",
    "        df[i].loc[df[i] < lower_bound] = quartile_f\n",
    "        df[i].loc[df[i] > upper_bound] = quartile_l\n",
    "        \n",
    "num_col = ['ps_reg_03', 'ps_car_13', 'ps_car_14']\n",
    "outlier(train,num_col)\n",
    "outlier(test,num_col)"
   ]
  },
  {
   "cell_type": "markdown",
   "metadata": {
    "_cell_guid": "e99bede8-4e09-4fac-8313-9bd4941b876e",
    "_uuid": "a5607f77cf5ff3414e3e82100c9b906ff9ef72bc"
   },
   "source": [
    "# Split Dataset"
   ]
  },
  {
   "cell_type": "code",
   "execution_count": null,
   "metadata": {
    "_cell_guid": "91d8178d-209b-44fb-8d3a-a692d557fb97",
    "_uuid": "ce0a4e438671f0b1380dacf6563e6ae7767dc939",
    "collapsed": true
   },
   "outputs": [],
   "source": [
    "X = train.drop(['target','id'],axis=1)\n",
    "y = train['target'].astype('category')\n",
    "x_test = test.drop('id',axis=1)"
   ]
  },
  {
   "cell_type": "markdown",
   "metadata": {
    "_cell_guid": "4c010484-8a3e-4898-a50c-af1e37a55593",
    "_uuid": "c53adee449809b0e41bf891465dfee4e46685929"
   },
   "source": [
    "# XGBoost"
   ]
  },
  {
   "cell_type": "code",
   "execution_count": null,
   "metadata": {
    "_cell_guid": "0f44bbc2-affb-42e6-a082-1a9e601117a8",
    "_uuid": "4768f15d597a142c5cdad6f7fe86c64eb2ad94fc",
    "collapsed": true
   },
   "outputs": [],
   "source": [
    "def runXGB(xtrain,xvalid,ytrain,yvalid,xtest,eta=0.1,num_rounds=100,max_depth=4):\n",
    "    params = {\n",
    "        'objective':'binary:logistic',        \n",
    "        'max_depth':max_depth,\n",
    "        'learning_rate':eta,\n",
    "        'eval_metric':'auc',\n",
    "        'min_child_weight':6,\n",
    "        'subsample':0.8,\n",
    "        'colsample_bytree':0.8,\n",
    "        'seed':seed,\n",
    "        'reg_lambda':1.3,\n",
    "        'reg_alpha':8,\n",
    "        'gamma':10,\n",
    "        'scale_pos_weight':1.6\n",
    "        #'n_thread':-1\n",
    "    }\n",
    "    \n",
    "    dtrain = xgb.DMatrix(xtrain,label=ytrain)\n",
    "    dvalid = xgb.DMatrix(xvalid,label=yvalid)\n",
    "    dtest = xgb.DMatrix(xtest)\n",
    "    watchlist = [(dtrain,'train'),(dvalid,'test')]\n",
    "    \n",
    "    model = xgb.train(params,dtrain,num_rounds,watchlist,early_stopping_rounds=50,verbose_eval=50)\n",
    "    pred = model.predict(dvalid,ntree_limit=model.best_ntree_limit)\n",
    "    pred_test = model.predict(dtest,ntree_limit=model.best_ntree_limit)\n",
    "    return pred_test,model\n",
    "    "
   ]
  },
  {
   "cell_type": "code",
   "execution_count": null,
   "metadata": {
    "_cell_guid": "3329dc20-8fd2-429b-85a4-db8ba8ccb88a",
    "_uuid": "b947ddbb0f16641750f98b68f3ed607da7a4fdab",
    "collapsed": true,
    "scrolled": false
   },
   "outputs": [],
   "source": [
    "kf = StratifiedKFold(n_splits=2,random_state=seed)\n",
    "pred_test_full =0\n",
    "cv_score = []\n",
    "i=1\n",
    "for train_index,test_index in kf.split(X,y):\n",
    "    print('{} of KFold {}'.format(i,kf.n_splits))\n",
    "    xtr,xvl = X.loc[train_index],X.loc[test_index]\n",
    "    ytr,yvl = y[train_index],y[test_index]\n",
    "    \n",
    "    pred_test,xg_model = runXGB(xtr,xvl,ytr,yvl,x_test,num_rounds=1000,eta=0.1)    \n",
    "    pred_test_full += pred_test\n",
    "    cv_score.append(xg_model.best_score)\n",
    "    i+=1"
   ]
  },
  {
   "cell_type": "markdown",
   "metadata": {
    "_cell_guid": "e219849c-d8fe-4b2b-831c-05dd8bf57b5e",
    "_uuid": "7c60a8578209fadad3b830d7c3972dc5a2b3e17b"
   },
   "source": [
    "# Model Accuracy"
   ]
  },
  {
   "cell_type": "code",
   "execution_count": null,
   "metadata": {
    "_cell_guid": "eb7a72ad-5f8e-477f-a141-aa103c558c25",
    "_uuid": "bda77eb66dfdfca434e0c787667af3f532e143f1",
    "collapsed": true
   },
   "outputs": [],
   "source": [
    "print(cv_score)\n",
    "print('Mean cv_score',np.mean(cv_score))"
   ]
  },
  {
   "cell_type": "code",
   "execution_count": null,
   "metadata": {
    "_cell_guid": "aa1cac1f-eab6-4eeb-abd0-f256dbfcd1b3",
    "_uuid": "d574d1ec466b9324a2514631f88f41dc882a0036",
    "collapsed": true
   },
   "outputs": [],
   "source": [
    "pred_xgb = pred_test_full/2"
   ]
  },
  {
   "cell_type": "markdown",
   "metadata": {
    "_cell_guid": "32ebfc4c-3e8b-42aa-bda7-36c4eaea95a4",
    "_uuid": "da2d3fdd39de5274847357b0002fd093e62a96c0"
   },
   "source": [
    "# Important Features"
   ]
  },
  {
   "cell_type": "code",
   "execution_count": null,
   "metadata": {
    "_cell_guid": "bdcdce81-cc9d-4f10-9356-62e8a288afb1",
    "_uuid": "5da591b7e1081cd829a95bbd370013332d554653",
    "collapsed": true
   },
   "outputs": [],
   "source": [
    "fig,ax = plt.subplots(figsize=(14,10))\n",
    "xgb.plot_importance(xg_model,ax=ax,height=0.8,color='r')\n",
    "plt.show()"
   ]
  },
  {
   "cell_type": "markdown",
   "metadata": {
    "_cell_guid": "0b4c0116-0bf3-4e2d-8502-b16cdb7518ed",
    "_uuid": "8874228037b0a05d379fa0e8fe8342aae33fe19c"
   },
   "source": [
    "# Predict"
   ]
  },
  {
   "cell_type": "code",
   "execution_count": null,
   "metadata": {
    "_cell_guid": "98d44101-1f3d-47ca-8790-5becb23dad9e",
    "_uuid": "23ae3fcbf51ff04f499803a6fd56e06aeaa503a9",
    "collapsed": true
   },
   "outputs": [],
   "source": [
    "y_pred = pred_xgb\n",
    "submit = pd.DataFrame({'id':test['id'],'target':y_pred})\n",
    "submit.to_csv('xgb_porto.csv',index=False)"
   ]
  }
 ],
 "metadata": {
  "kernelspec": {
   "display_name": "Python 3",
   "language": "python",
   "name": "python3"
  },
  "language_info": {
   "codemirror_mode": {
    "name": "ipython",
    "version": 3
   },
   "file_extension": ".py",
   "mimetype": "text/x-python",
   "name": "python",
   "nbconvert_exporter": "python",
   "pygments_lexer": "ipython3",
   "version": "3.6.4"
  }
 },
 "nbformat": 4,
 "nbformat_minor": 2
}
