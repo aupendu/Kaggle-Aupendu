{
 "cells": [
  {
   "cell_type": "code",
   "execution_count": null,
   "metadata": {
    "collapsed": true
   },
   "outputs": [],
   "source": [
    "%matplotlib inline\n",
    "import os\n",
    "import struct\n",
    "import torch\n",
    "from PIL import Image\n",
    "import matplotlib.pyplot as plt\n",
    "import numpy as np\n",
    "import cv2"
   ]
  },
  {
   "cell_type": "code",
   "execution_count": null,
   "metadata": {
    "collapsed": true
   },
   "outputs": [],
   "source": [
    "def fftImg(Img):\n",
    "    Img = np.array(Img)\n",
    "    fImg = np.fft.fft2(Img)\n",
    "    fshiftImg = np.fft.fftshift(fImg)\n",
    "    AbsImg = np.log(np.abs(fshiftImg))\n",
    "    AngImg = np.angle(fshiftImg)\n",
    "    return AbsImg, AngImg"
   ]
  },
  {
   "cell_type": "code",
   "execution_count": null,
   "metadata": {
    "collapsed": true
   },
   "outputs": [],
   "source": [
    "def cropimg(Img):\n",
    "    w,h,c = Img.shape\n",
    "    return Img[w/2-112:w/2+112,h/2-112:h/2+112].transpose(2,0,1)"
   ]
  },
  {
   "cell_type": "code",
   "execution_count": null,
   "metadata": {
    "collapsed": true
   },
   "outputs": [],
   "source": [
    "def gammaImg(image, gamma):\n",
    "    invGamma = 1.0 / gamma\n",
    "    table = np.array([((i / 255.0) ** invGamma) * 255\n",
    "        for i in np.arange(0, 256)]).astype(\"uint8\")\n",
    "    return cv2.LUT(image, table)"
   ]
  },
  {
   "cell_type": "code",
   "execution_count": null,
   "metadata": {
    "collapsed": true
   },
   "outputs": [],
   "source": [
    "def compressImg(img,q):\n",
    "    encode_param = [int(cv2.IMWRITE_JPEG_QUALITY), q]\n",
    "    result, encimg = cv2.imencode('.jpg', img, encode_param)\n",
    "    decimg = cv2.imdecode(encimg, 1)\n",
    "    return decimg"
   ]
  },
  {
   "cell_type": "code",
   "execution_count": null,
   "metadata": {
    "collapsed": true
   },
   "outputs": [],
   "source": [
    "def interpolImg(Img, factor):\n",
    "    w,h,c = Img.shape\n",
    "    factorx = factor\n",
    "    factory = factor\n",
    "    if factor*h<224:\n",
    "        factorx = 1\n",
    "    if factor*w<224:\n",
    "        factory = 1\n",
    "    return cv2.resize(Img,None,fx=factorx,fy=factory, interpolation = cv2.INTER_CUBIC)"
   ]
  },
  {
   "cell_type": "code",
   "execution_count": null,
   "metadata": {
    "collapsed": true
   },
   "outputs": [],
   "source": [
    "listing = ['Sony-NEX-7',\n",
    " 'Motorola-X',\n",
    " 'HTC-1-M7',\n",
    " 'Samsung-Galaxy-Note3',\n",
    " 'Motorola-Droid-Maxx',\n",
    " 'iPhone-4s',\n",
    " 'iPhone-6',\n",
    " 'LG-Nexus-5x',\n",
    " 'Samsung-Galaxy-S4',\n",
    " 'Motorola-Nexus-6']"
   ]
  },
  {
   "cell_type": "code",
   "execution_count": null,
   "metadata": {},
   "outputs": [],
   "source": [
    "Datapath = 'train/'\n",
    "listImg=[]\n",
    "for i in range(len(listing)):\n",
    "    listImg.append(os.listdir(Datapath+listing[i]))\n",
    "print(listing)"
   ]
  },
  {
   "cell_type": "code",
   "execution_count": null,
   "metadata": {},
   "outputs": [],
   "source": [
    "TrainImg = torch.ByteTensor(275*10, 3, 224, 224)\n",
    "TrainL = torch.Tensor(275*10)\n",
    "\n",
    "TrainImgs = torch.ByteTensor(275*80, 3, 224, 224)\n",
    "TrainLs = torch.Tensor(275*80)\n",
    "\n",
    "for i in range(len(listImg)):\n",
    "    print(i)\n",
    "    for j in range(len(listImg[i])):\n",
    "        imgfilepath = Datapath+listing[i]+'/'+listImg[i][j]\n",
    "        imgfile = cv2.imread(imgfilepath)\n",
    "        \n",
    "        TrainImg[i*275+j] = torch.from_numpy(cropimg(imgfile))\n",
    "        TrainL[i*275+j] = i\n",
    "\n",
    "        \n",
    "        \n",
    "        TrainImgs[i*275*8+j] = torch.from_numpy(cropimg(compressImg(imgfile,70)))\n",
    "        TrainLs[i*275*8+j] = i\n",
    "        \n",
    "        TrainImgs[i*275*8+275+j] = torch.from_numpy(cropimg(compressImg(imgfile,90)))\n",
    "        TrainLs[i*275*8+275+j] = i\n",
    "        \n",
    "        TrainImgs[i*275*8+275*2+j] = torch.from_numpy(cropimg(interpolImg(imgfile,0.5)))\n",
    "        TrainLs[i*275*8+275*2+j] = i\n",
    "        \n",
    "        TrainImgs[i*275*8+275*3+j] = torch.from_numpy(cropimg(interpolImg(imgfile,0.8)))\n",
    "        TrainLs[i*275*8+275*3+j] = i\n",
    "        \n",
    "        TrainImgs[i*275*8+275*4+j] = torch.from_numpy(cropimg(interpolImg(imgfile,1.5)))\n",
    "        TrainLs[i*275*8+275*4+j] = i\n",
    "        \n",
    "        TrainImgs[i*275*8+275*5+j] = torch.from_numpy(cropimg(interpolImg(imgfile,2.0)))\n",
    "        TrainLs[i*275*8+275*5+j] = i\n",
    "        \n",
    "        TrainImgs[i*275*8+275*6+j] = torch.from_numpy(cropimg(gammaImg(imgfile,0.8)))\n",
    "        TrainLs[i*275*8+275*6+j] = i\n",
    "        \n",
    "        TrainImgs[i*275*8+275*7+j] = torch.from_numpy(cropimg(gammaImg(imgfile,1.2)))\n",
    "        TrainLs[i*275*8+275*7+j] = i"
   ]
  },
  {
   "cell_type": "code",
   "execution_count": null,
   "metadata": {
    "collapsed": true
   },
   "outputs": [],
   "source": [
    "torch.save(TrainImg, 'data/TrainImg.pth')\n",
    "torch.save(TrainL, 'data/TrainLabel.pth')\n",
    "\n",
    "torch.save(TrainImgs, 'data/TrainImgs.pth')\n",
    "torch.save(TrainLs, 'data/TrainLabels.pth')"
   ]
  },
  {
   "cell_type": "code",
   "execution_count": null,
   "metadata": {
    "collapsed": true
   },
   "outputs": [],
   "source": []
  }
 ],
 "metadata": {
  "kernelspec": {
   "display_name": "Python 2",
   "language": "python",
   "name": "python2"
  },
  "language_info": {
   "codemirror_mode": {
    "name": "ipython",
    "version": 2
   },
   "file_extension": ".py",
   "mimetype": "text/x-python",
   "name": "python",
   "nbconvert_exporter": "python",
   "pygments_lexer": "ipython2",
   "version": "2.7.14"
  }
 },
 "nbformat": 4,
 "nbformat_minor": 2
}
