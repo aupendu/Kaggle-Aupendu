{
 "cells": [
  {
   "cell_type": "code",
   "execution_count": null,
   "metadata": {},
   "outputs": [],
   "source": [
    "%matplotlib inline\n",
    "import os\n",
    "import torch\n",
    "import torch.nn as nn\n",
    "import torch.nn.functional as F\n",
    "from torch.autograd import Variable\n",
    "import torch.optim as optim\n",
    "import torchvision\n",
    "from torchvision import models\n",
    "import numpy as np\n",
    "import math\n",
    "import random\n",
    "import pandas as pd\n",
    "import cv2\n",
    "import time\n",
    "np.random.seed(1337)"
   ]
  },
  {
   "cell_type": "code",
   "execution_count": null,
   "metadata": {},
   "outputs": [],
   "source": [
    "TrainImage = torch.load('data/TrainImg.pth')\n",
    "TrainLabel = torch.load('data/TrainLabel.pth')"
   ]
  },
  {
   "cell_type": "code",
   "execution_count": null,
   "metadata": {},
   "outputs": [],
   "source": [
    "TrainImages = torch.load('data/TrainImgs.pth')\n",
    "TrainLabels = torch.load('data/TrainLabels.pth')"
   ]
  },
  {
   "cell_type": "code",
   "execution_count": null,
   "metadata": {},
   "outputs": [],
   "source": [
    "def sufflefinal(it,il,N,m):\n",
    "    for loop in range(N):\n",
    "        irand1 = random.randint(0, m-1)\n",
    "        irand2 = random.randint(0, m-1)\n",
    "        \n",
    "        ivar = it.index_select(0, torch.LongTensor([irand1]))\n",
    "        it[irand1] = it.index_select(0, torch.LongTensor([irand2]))\n",
    "        it[irand2] = ivar\n",
    "    \n",
    "        ivar = il[irand1]\n",
    "        il[irand1] = il[irand2]\n",
    "        il[irand2] = ivar\n",
    "        \n",
    "    return it,il"
   ]
  },
  {
   "cell_type": "code",
   "execution_count": null,
   "metadata": {},
   "outputs": [],
   "source": [
    "net = models.densenet201(pretrained=True)\n",
    "\n",
    "new_classifier = nn.Sequential(*list(net.classifier.children())[:-1])\n",
    "new_classifier.add_module('classifier',nn.Linear(1920,10))\n",
    "net.classifier = new_classifier\n",
    "\n",
    "net = net.cuda()\n",
    "net = torch.nn.DataParallel(net, device_ids=[0, 2])"
   ]
  },
  {
   "cell_type": "code",
   "execution_count": null,
   "metadata": {},
   "outputs": [],
   "source": [
    "TrainImage = ((TrainImage.float())/255.0)\n",
    "TrainLabel = TrainLabel.long()"
   ]
  },
  {
   "cell_type": "code",
   "execution_count": null,
   "metadata": {},
   "outputs": [],
   "source": [
    "TrainImages = ((TrainImages.float())/255.0)\n",
    "TrainLabels = TrainLabels.long()"
   ]
  },
  {
   "cell_type": "code",
   "execution_count": null,
   "metadata": {},
   "outputs": [],
   "source": [
    "criterion = nn.CrossEntropyLoss(size_average=False)\n",
    "optimizer = optim.Adam(net.parameters(), lr=1e-4)\n",
    "scheduler = optim.lr_scheduler.MultiStepLR(optimizer, milestones=[50,100,150,200], gamma=0.1)"
   ]
  },
  {
   "cell_type": "code",
   "execution_count": null,
   "metadata": {},
   "outputs": [],
   "source": [
    "iterations = 250\n",
    "BatchSize = 250\n",
    "for epoch in range(iterations):\n",
    "    epochStart = time.time()\n",
    "    runningLoss = 0.0\n",
    "    TrainImages, TrainLabels = sufflefinal(TrainImages, TrainLabels,1000,275*80)\n",
    "    TrainImage, TrainLabel = sufflefinal(TrainImage, TrainLabel,1000,275*10)\n",
    "    scheduler.step()\n",
    "    for i in range(11):\n",
    "        inputs = torch.index_select(TrainImage,0,torch.linspace(i*BatchSize,(i+1)*BatchSize - 1,steps=BatchSize).long())\n",
    "        labels = torch.index_select(TrainLabel,0,torch.linspace(i*BatchSize,(i+1)*BatchSize - 1,steps=BatchSize).long())\n",
    "        optimizer.zero_grad()\n",
    "        outputs = net(Variable(inputs).cuda())\n",
    "        loss = criterion(outputs, Variable(labels).cuda())\n",
    "        loss.backward()\n",
    "        runningLoss+=loss.data[0]\n",
    "        mul=0.7\n",
    "        for myparam in optimizer.param_groups:\n",
    "            for mygrad in myparam['params']:\n",
    "                mygrad.grad.data = mul*(mygrad.grad.data)\n",
    "        optimizer.step()\n",
    "        \n",
    "        for j in range(8):\n",
    "            inputs = torch.index_select(TrainImages,0,torch.linspace(i*BatchSize*8+j*BatchSize,i*BatchSize*8+(j+1)*BatchSize-1,steps=BatchSize).long())\n",
    "            labels = torch.index_select(TrainLabels,0,torch.linspace(i*BatchSize*8+j*BatchSize,i*BatchSize*8+(j+1)*BatchSize-1,steps=BatchSize).long())\n",
    "            optimizer.zero_grad()\n",
    "            outputs = net(Variable(inputs).cuda())\n",
    "            loss = criterion(outputs, Variable(labels).cuda())\n",
    "            loss.backward()\n",
    "            runningLoss+=loss.data[0]\n",
    "            mul=0.0375\n",
    "            for myparam in optimizer.param_groups:\n",
    "                for mygrad in myparam['params']:\n",
    "                    mygrad.grad.data = mul*(mygrad.grad.data)\n",
    "            optimizer.step()\n",
    "\n",
    "    epochEnd = time.time()-epochStart  \n",
    "    print('At Iteration: %d / %d ;Tr Loss: %f ;Time: {%f}m {%f}s'%(epoch + 1,iterations,runningLoss/24750,epochEnd//60,epochEnd%60))\n",
    "print('Finished Training')"
   ]
  },
  {
   "cell_type": "code",
   "execution_count": null,
   "metadata": {},
   "outputs": [],
   "source": [
    "listing1 = ['Sony-NEX-7',\n",
    " 'Motorola-X',\n",
    " 'HTC-1-M7',\n",
    " 'Samsung-Galaxy-Note3',\n",
    " 'Motorola-Droid-Maxx',\n",
    " 'iPhone-4s',\n",
    " 'iPhone-6',\n",
    " 'LG-Nexus-5x',\n",
    " 'Samsung-Galaxy-S4',\n",
    " 'Motorola-Nexus-6']\n",
    "\n",
    "Testpath = 'test/'\n",
    "listing2 = os.listdir(Testpath)"
   ]
  },
  {
   "cell_type": "code",
   "execution_count": null,
   "metadata": {},
   "outputs": [],
   "source": [
    "outImgname = []\n",
    "outlabel = []\n",
    "Tsdata = torch.FloatTensor(1,3,224,224)\n",
    "for i in range(len(listing2)):\n",
    "    image = cv2.imread(Testpath+listing2[i], flags=cv2.IMREAD_COLOR)\n",
    "    w,h,c = image.shape\n",
    "    image = image[144:368,144:368].transpose(2,0,1)\n",
    "    Tsdata[0] = torch.from_numpy(image)\n",
    "    \n",
    "    Tsdata = Tsdata/255.0\n",
    "    net.eval()\n",
    "    out = net(Variable(Tsdata).cuda())\n",
    "    _, predicted = torch.max(out.data.cpu(), 1)\n",
    "    outlabel.append(listing1[predicted[0]])\n",
    "    outImgname.append(listing2[i])"
   ]
  },
  {
   "cell_type": "code",
   "execution_count": null,
   "metadata": {},
   "outputs": [],
   "source": [
    "submission = pd.DataFrame({'fname': np.array(outImgname), 'camera': np.array(outlabel)})\n",
    "submission.to_csv('ieee_sub.csv', index=False)"
   ]
  },
  {
   "cell_type": "code",
   "execution_count": null,
   "metadata": {},
   "outputs": [],
   "source": []
  }
 ],
 "metadata": {
  "kernelspec": {
   "display_name": "Python 2",
   "language": "python",
   "name": "python2"
  },
  "language_info": {
   "codemirror_mode": {
    "name": "ipython",
    "version": 2
   },
   "file_extension": ".py",
   "mimetype": "text/x-python",
   "name": "python",
   "nbconvert_exporter": "python",
   "pygments_lexer": "ipython2",
   "version": "2.7.14"
  }
 },
 "nbformat": 4,
 "nbformat_minor": 2
}
